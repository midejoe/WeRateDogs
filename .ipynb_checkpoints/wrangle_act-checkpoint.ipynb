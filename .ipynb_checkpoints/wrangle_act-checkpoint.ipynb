{
 "cells": [
  {
   "cell_type": "markdown",
   "id": "d423c508",
   "metadata": {},
   "source": [
    "### Data Analysis of WeRateDogs Twitter archive"
   ]
  },
  {
   "cell_type": "markdown",
   "id": "a3321ddb",
   "metadata": {},
   "source": [
    "#### Context\n",
    "Goal: Wrangle WeRateDogs Twitter data to create interesting and trustworthy analyses and visualizations. The Twitter archive is great, but it only contains very basic tweet information. Additional gathering, then assessing and cleaning is required for \"Wow!\"-worthy analyses and visualizations."
   ]
  },
  {
   "cell_type": "markdown",
   "id": "60b75b6f",
   "metadata": {},
   "source": [
    "####  Data\n",
    "In this project, three datasets were used.\n",
    "\n",
    "* WeRateDogs Twitter archive\n",
    "* Tweet image predictions File(URL)\n",
    "* Additional data from twitter API."
   ]
  },
  {
   "cell_type": "markdown",
   "id": "84924e4c",
   "metadata": {},
   "source": [
    "#### Import necessary libraries."
   ]
  },
  {
   "cell_type": "code",
   "execution_count": null,
   "id": "17d084e3",
   "metadata": {},
   "outputs": [],
   "source": [
    "import numpy as np\n",
    "import pandas as pd\n",
    "import matplotlib.pyplot as plt\n",
    "%matplotlib inline\n",
    "import seaborn as sns\n",
    "import requests\n",
    "import tweepy\n",
    "from tweepy import OAuthHandler\n",
    "from timeit import default_timer as timer\n",
    "import json\n",
    "import os\n"
   ]
  },
  {
   "cell_type": "markdown",
   "id": "3813a1e0",
   "metadata": {},
   "source": [
    "### Gathering data\n",
    "\n",
    "* WeRateDogs Twitter Archive"
   ]
  },
  {
   "cell_type": "code",
   "execution_count": null,
   "id": "01a3de98",
   "metadata": {},
   "outputs": [],
   "source": [
    "df_archive = pd.read_csv(\"twitter-archive-enhanced.csv\")"
   ]
  },
  {
   "cell_type": "code",
   "execution_count": null,
   "id": "36eeedef",
   "metadata": {},
   "outputs": [],
   "source": [
    "df_archive.head(3)"
   ]
  },
  {
   "cell_type": "code",
   "execution_count": null,
   "id": "c96214f3",
   "metadata": {},
   "outputs": [],
   "source": [
    "df_archive.info()"
   ]
  },
  {
   "cell_type": "markdown",
   "id": "8dfa1b22",
   "metadata": {},
   "source": [
    "#### Tweet image predictions File(URL)"
   ]
  },
  {
   "cell_type": "code",
   "execution_count": null,
   "id": "02b7c324",
   "metadata": {},
   "outputs": [],
   "source": [
    "# Download Tweet image predictions programmatically using the Requests library \n",
    "\n",
    "url= 'https://d17h27t6h515a5.cloudfront.net/topher/2017/August/599fd2ad_image-predictions/image-predictions.tsv'\n",
    "response = requests.get(url)"
   ]
  },
  {
   "cell_type": "code",
   "execution_count": null,
   "id": "3067612e",
   "metadata": {},
   "outputs": [],
   "source": [
    "# open a file and write the content into the file\n",
    "with open('image-predictions.tsv',mode='wb') as fileImage:\n",
    "    fileImage.write(response.content)"
   ]
  },
  {
   "cell_type": "code",
   "execution_count": null,
   "id": "9f3af376",
   "metadata": {},
   "outputs": [],
   "source": [
    "df_image = pd.read_csv('image-predictions.tsv',sep='\\t') # read tsv file"
   ]
  },
  {
   "cell_type": "code",
   "execution_count": null,
   "id": "8c795ac8",
   "metadata": {},
   "outputs": [],
   "source": [
    "df_image.head(3)"
   ]
  },
  {
   "cell_type": "code",
   "execution_count": null,
   "id": "6f1cbabf",
   "metadata": {},
   "outputs": [],
   "source": [
    "df_image.info()"
   ]
  },
  {
   "cell_type": "markdown",
   "id": "53365690",
   "metadata": {},
   "source": [
    "###  Additional data from twitter API\n",
    "\n",
    "* I used information from https://stackabuse.com/reading-and-writing-json-to-a-file-in-python/ to read the downloaded dataset (tweet_json.txt file)"
   ]
  },
  {
   "cell_type": "markdown",
   "id": "c2a5e9dc",
   "metadata": {},
   "source": [
    "The dataset has been downloaded already and written into the tweet_json.txt file. The data will be extracted from this file below"
   ]
  },
  {
   "cell_type": "code",
   "execution_count": null,
   "id": "ac00e4e1",
   "metadata": {},
   "outputs": [],
   "source": [
    "# Download Tweet image predictions programmatically using the Requests library \n",
    "\n",
    "url= 'https://video.udacity-data.com/topher/2018/November/5be5fb7d_tweet-json/tweet-json.txt'\n",
    "response_tweet = requests.get(url)"
   ]
  },
  {
   "cell_type": "code",
   "execution_count": null,
   "id": "d4382fe7",
   "metadata": {},
   "outputs": [],
   "source": [
    "#we write this list into a txt file\n",
    "with open('tweet_json.txt', mode= 'wb') as file:\n",
    "        file.write(response_tweet.content)"
   ]
  },
  {
   "cell_type": "code",
   "execution_count": null,
   "id": "c30706fe",
   "metadata": {},
   "outputs": [],
   "source": [
    "tweets = []\n",
    "for line in open('tweet_json.txt', 'r'):\n",
    "    tweets.append(json.loads(line))\n"
   ]
  },
  {
   "cell_type": "code",
   "execution_count": null,
   "id": "8f18218f",
   "metadata": {},
   "outputs": [],
   "source": [
    "tweets[0]"
   ]
  },
  {
   "cell_type": "code",
   "execution_count": null,
   "id": "e25a34a6",
   "metadata": {},
   "outputs": [],
   "source": [
    "#create a list of data from tweet_json.txt\n",
    "list_tweets = []\n",
    "\n",
    "for json_data in tweets:\n",
    "    list_tweets.append({'id' : json_data['id'],\n",
    "                       'retweet_count': int(json_data['retweet_count']),\n",
    "                       'favorite_count' : int(json_data['favorite_count'])})\n",
    "   \n",
    "#create a Dataframe\n",
    "tweets_api = pd.DataFrame(list_tweets, columns = ['id', 'retweet_count' , 'favorite_count']) \n",
    "\n",
    "#Check out the obatined DataFrame\n",
    "tweets_api.head() "
   ]
  },
  {
   "cell_type": "code",
   "execution_count": null,
   "id": "630dadc0",
   "metadata": {},
   "outputs": [],
   "source": [
    "tweets_api.info()"
   ]
  },
  {
   "cell_type": "markdown",
   "id": "cb514938",
   "metadata": {},
   "source": [
    "## Accessing Data\n",
    "\n",
    "### Visual Assessment\n",
    "\n",
    "* The three datasets are viewed using the head() and tail() methods to assess them for Tidiness and Quality"
   ]
  },
  {
   "cell_type": "markdown",
   "id": "3da317a4",
   "metadata": {},
   "source": [
    "#### WeRateDogs Twitter Archive"
   ]
  },
  {
   "cell_type": "code",
   "execution_count": null,
   "id": "229e050f",
   "metadata": {},
   "outputs": [],
   "source": [
    "df_archive.head(3)"
   ]
  },
  {
   "cell_type": "code",
   "execution_count": null,
   "id": "8b4664b5",
   "metadata": {},
   "outputs": [],
   "source": [
    "df_archive.tail(3)"
   ]
  },
  {
   "cell_type": "markdown",
   "id": "b5f42c56",
   "metadata": {},
   "source": [
    "#### Observation\n",
    "- Missing values are noticed in the dataset"
   ]
  },
  {
   "cell_type": "markdown",
   "id": "2f3e018d",
   "metadata": {},
   "source": [
    "#### Tweet image predictions File(URL)"
   ]
  },
  {
   "cell_type": "code",
   "execution_count": null,
   "id": "27834fb9",
   "metadata": {},
   "outputs": [],
   "source": [
    "df_image.head(3)"
   ]
  },
  {
   "cell_type": "code",
   "execution_count": null,
   "id": "3124effc",
   "metadata": {},
   "outputs": [],
   "source": [
    "df_image.tail(3)"
   ]
  },
  {
   "cell_type": "markdown",
   "id": "bcb88578",
   "metadata": {},
   "source": [
    "#### Observation\n",
    "- The observation on some columns need to be standardize to lower case for clarity. Overall, visually the dataset is clean"
   ]
  },
  {
   "cell_type": "markdown",
   "id": "5e0e201a",
   "metadata": {},
   "source": [
    "#### Additional data from twitter API"
   ]
  },
  {
   "cell_type": "code",
   "execution_count": null,
   "id": "c86304d3",
   "metadata": {},
   "outputs": [],
   "source": [
    "tweets_api.head(3)"
   ]
  },
  {
   "cell_type": "code",
   "execution_count": null,
   "id": "2b08e2be",
   "metadata": {},
   "outputs": [],
   "source": [
    "tweets_api.tail(3)"
   ]
  },
  {
   "cell_type": "markdown",
   "id": "089cc77e",
   "metadata": {},
   "source": [
    "#### Observation\n",
    "- The dataset visually looks clean."
   ]
  },
  {
   "cell_type": "markdown",
   "id": "43eab928",
   "metadata": {},
   "source": [
    "### Programmatic Assessment\n",
    "\n",
    "- Accessment of the 3 datasets using pandas functions"
   ]
  },
  {
   "cell_type": "markdown",
   "id": "cbe5ad9d",
   "metadata": {},
   "source": [
    "#### WeRateDogs Twitter Archive"
   ]
  },
  {
   "cell_type": "code",
   "execution_count": null,
   "id": "262e5b0b",
   "metadata": {},
   "outputs": [],
   "source": [
    "df_archive.sample(5)"
   ]
  },
  {
   "cell_type": "code",
   "execution_count": null,
   "id": "06b2c18a",
   "metadata": {},
   "outputs": [],
   "source": [
    "df_archive.info()"
   ]
  },
  {
   "cell_type": "markdown",
   "id": "5e7d2b21",
   "metadata": {},
   "source": [
    "#### Observation:\n",
    "- Presence of null values in 5 columns"
   ]
  },
  {
   "cell_type": "code",
   "execution_count": null,
   "id": "67a7d459",
   "metadata": {},
   "outputs": [],
   "source": [
    "df_archive.describe(include = 'number').T"
   ]
  },
  {
   "cell_type": "code",
   "execution_count": null,
   "id": "7d3dabe5",
   "metadata": {},
   "outputs": [],
   "source": [
    "df_archive.describe(exclude = 'number').T"
   ]
  },
  {
   "cell_type": "markdown",
   "id": "cf21584e",
   "metadata": {},
   "source": [
    "#### Observation:\n",
    "- Doggo, floofer, pupper and puppo seems to have 2 unique values."
   ]
  },
  {
   "cell_type": "code",
   "execution_count": null,
   "id": "8ae593b1",
   "metadata": {},
   "outputs": [],
   "source": [
    "# check for duplicated data\n",
    "\n",
    "df_archive.duplicated().sum()"
   ]
  },
  {
   "cell_type": "code",
   "execution_count": null,
   "id": "b420540d",
   "metadata": {},
   "outputs": [],
   "source": [
    "# check for counts of each value\n",
    "\n",
    "df_archive.rating_denominator.value_counts()"
   ]
  },
  {
   "cell_type": "markdown",
   "id": "291d28aa",
   "metadata": {},
   "source": [
    "#### Observation:\n",
    "- Rating denominator should be 10. Further analysis will be made"
   ]
  },
  {
   "cell_type": "code",
   "execution_count": null,
   "id": "ce153678",
   "metadata": {},
   "outputs": [],
   "source": [
    "# check for counts of each value\n",
    "\n",
    "df_archive.rating_numerator.value_counts()"
   ]
  },
  {
   "cell_type": "markdown",
   "id": "2726920c",
   "metadata": {},
   "source": [
    "#### Observation:\n",
    "- Some extreme values are detected"
   ]
  },
  {
   "cell_type": "code",
   "execution_count": null,
   "id": "5f619a03",
   "metadata": {},
   "outputs": [],
   "source": [
    "3# check the value counts of the source column\n",
    "\n",
    "df_archive.source.value_counts()"
   ]
  },
  {
   "cell_type": "markdown",
   "id": "a5ca8442",
   "metadata": {},
   "source": [
    "#### Observation:\n",
    "- It is observed that most data was extracted from the iPhone. Further cleaning will be made to get this information"
   ]
  },
  {
   "cell_type": "markdown",
   "id": "66c0b722",
   "metadata": {},
   "source": [
    "#### Tweet image predictions File(URL)"
   ]
  },
  {
   "cell_type": "code",
   "execution_count": null,
   "id": "a9671f3a",
   "metadata": {},
   "outputs": [],
   "source": [
    "df_image.sample(5)"
   ]
  },
  {
   "cell_type": "code",
   "execution_count": null,
   "id": "0737598c",
   "metadata": {},
   "outputs": [],
   "source": [
    "df_image.info()"
   ]
  },
  {
   "cell_type": "markdown",
   "id": "c7cb8925",
   "metadata": {},
   "source": [
    "#### Observation:\n",
    "\n",
    "* There are no missing values."
   ]
  },
  {
   "cell_type": "code",
   "execution_count": null,
   "id": "2317cdc2",
   "metadata": {},
   "outputs": [],
   "source": [
    "df_image.describe(include = 'number').T"
   ]
  },
  {
   "cell_type": "code",
   "execution_count": null,
   "id": "e6a4274f",
   "metadata": {},
   "outputs": [],
   "source": [
    "df_image.describe(exclude = 'number').T"
   ]
  },
  {
   "cell_type": "markdown",
   "id": "c9736823",
   "metadata": {},
   "source": [
    "#### Observation:\n",
    "- There are 408 unique p3 with Labrador_retriever the most frequent\n",
    "- There are 378 unique p1 with golden_retriever the most frequent"
   ]
  },
  {
   "cell_type": "code",
   "execution_count": null,
   "id": "ac2a1343",
   "metadata": {},
   "outputs": [],
   "source": [
    "# check for duplicated data\n",
    "\n",
    "df_image.duplicated().sum()"
   ]
  },
  {
   "cell_type": "code",
   "execution_count": null,
   "id": "c5c7d0c1",
   "metadata": {},
   "outputs": [],
   "source": [
    "df_image.p1_dog.value_counts()"
   ]
  },
  {
   "cell_type": "code",
   "execution_count": null,
   "id": "b622a052",
   "metadata": {},
   "outputs": [],
   "source": [
    "df_image.p2_dog.value_counts()"
   ]
  },
  {
   "cell_type": "code",
   "execution_count": null,
   "id": "b0862916",
   "metadata": {},
   "outputs": [],
   "source": [
    "df_image.p3_dog.value_counts()"
   ]
  },
  {
   "cell_type": "markdown",
   "id": "fc559900",
   "metadata": {},
   "source": [
    "### Additional data from twitter API"
   ]
  },
  {
   "cell_type": "code",
   "execution_count": null,
   "id": "06cc1335",
   "metadata": {},
   "outputs": [],
   "source": [
    "tweets_api.sample(2)"
   ]
  },
  {
   "cell_type": "code",
   "execution_count": null,
   "id": "c43b13ee",
   "metadata": {},
   "outputs": [],
   "source": [
    "tweets_api.info()"
   ]
  },
  {
   "cell_type": "code",
   "execution_count": null,
   "id": "d8c80f22",
   "metadata": {},
   "outputs": [],
   "source": [
    "tweets_api.duplicated().sum()"
   ]
  },
  {
   "cell_type": "code",
   "execution_count": null,
   "id": "ee9504d7",
   "metadata": {},
   "outputs": [],
   "source": [
    "# Top 5 favorite_count records\n",
    "\n",
    "tweets_api.sort_values(['favorite_count'], ascending= 0)[0:5]"
   ]
  },
  {
   "cell_type": "code",
   "execution_count": null,
   "id": "fd486b64",
   "metadata": {},
   "outputs": [],
   "source": [
    "tweets_api.isnull().sum()"
   ]
  },
  {
   "cell_type": "markdown",
   "id": "20264328",
   "metadata": {},
   "source": [
    "### Cleaning Summary"
   ]
  },
  {
   "cell_type": "markdown",
   "id": "3a71b255",
   "metadata": {},
   "source": [
    "#### Tidiness List\n",
    "\n",
    "`WeRateDogs`\n",
    "\n",
    "- Columns 'doggo', 'floofer', 'pupper', 'puppo' in d should be a single column.\n",
    "\n",
    "- Change tweet_id to integer datatype. Merge with the two tables for a master dataset\n",
    "\n",
    "`Tweets_api`\n",
    "\n",
    "Merge 'tweets_api' and 'df_image' to 'df_archive' "
   ]
  },
  {
   "cell_type": "markdown",
   "id": "3cb4b5ca",
   "metadata": {},
   "source": [
    "#### Quality List\n",
    "\n",
    "`WeRateDogs`\n",
    "\n",
    "- Drop columns that won't be used for analysis especially with null values.\n",
    "- Change the timestamp to a datetime datatype.\n",
    "- In timestamp column, +0000 should be removed.\n",
    "- Create a standard for \"rating_denominator\". The standard is 10. \n",
    "- The \"rating_numerator\" has some extreme values. Fix that. 0-10\n",
    "- The name column has 'a' and None. It would be changed to NaN\n",
    "- The dog names format should be consistent. Make the first letter capital for all the names or all small letters.\n",
    "- The source column observations can be extracted in simpler form.\n",
    "\n",
    "`Tweet image Prediction File`\n",
    "\n",
    "- Drop duplicate values from jpg_url\n",
    "- The column names such as p1,p2 are not decriptive.\n",
    "- The prediction dog breeds involve both uppercase and lowercase for the first letter.\n"
   ]
  },
  {
   "cell_type": "markdown",
   "id": "a2ade01e",
   "metadata": {},
   "source": [
    "### Tidiness\n",
    "\n",
    "- Change the source column to simpler words.\n",
    "-  Columns 'doggo', 'floofer', 'pupper', 'puppo' in d should be a single column stage."
   ]
  },
  {
   "cell_type": "markdown",
   "id": "7847ba13",
   "metadata": {},
   "source": [
    "#### Code\n",
    "\n",
    "* Make copies of the dataset\n",
    "* Change the source column to simpler words."
   ]
  },
  {
   "cell_type": "code",
   "execution_count": null,
   "id": "584fa272",
   "metadata": {},
   "outputs": [],
   "source": [
    "# make copies of the 3 datasets for cleaning\n",
    "\n",
    "df_archive_clean = df_archive.copy()\n",
    "\n",
    "df_image_clean = df_image.copy()\n",
    "\n",
    "tweets_api_clean = tweets_api.copy()"
   ]
  },
  {
   "cell_type": "markdown",
   "id": "5ce1e812",
   "metadata": {},
   "source": [
    "#### Define\n",
    "\n",
    "- Drop columns that won't be used for analysis especially with null values."
   ]
  },
  {
   "cell_type": "markdown",
   "id": "dc26cf28",
   "metadata": {},
   "source": [
    "#### Code"
   ]
  },
  {
   "cell_type": "code",
   "execution_count": null,
   "id": "08a7dc9d",
   "metadata": {},
   "outputs": [],
   "source": [
    "df_archive_clean.drop(['in_reply_to_status_id', 'in_reply_to_user_id', 'retweeted_status_id', 'retweeted_status_user_id', 'retweeted_status_timestamp'], \n",
    "                axis = 1, inplace = True)"
   ]
  },
  {
   "cell_type": "markdown",
   "id": "0e83d116",
   "metadata": {},
   "source": [
    "#### Test"
   ]
  },
  {
   "cell_type": "code",
   "execution_count": null,
   "id": "acf1e583",
   "metadata": {},
   "outputs": [],
   "source": [
    "df_archive_clean.sample(2)"
   ]
  },
  {
   "cell_type": "markdown",
   "id": "c557d268",
   "metadata": {},
   "source": [
    "#### Define\n",
    "\n",
    "- In timestamp column, +0000 should be removed. "
   ]
  },
  {
   "cell_type": "markdown",
   "id": "bd6e434c",
   "metadata": {},
   "source": [
    "#### Code"
   ]
  },
  {
   "cell_type": "code",
   "execution_count": null,
   "id": "a881f70c",
   "metadata": {},
   "outputs": [],
   "source": [
    "df_archive_clean.timestamp = df_archive_clean.timestamp.str[:-5].str.strip()"
   ]
  },
  {
   "cell_type": "markdown",
   "id": "d95f9207",
   "metadata": {},
   "source": [
    "#### Test"
   ]
  },
  {
   "cell_type": "code",
   "execution_count": null,
   "id": "1ca3b85e",
   "metadata": {},
   "outputs": [],
   "source": [
    "df_archive_clean.timestamp.head(2)"
   ]
  },
  {
   "cell_type": "markdown",
   "id": "eb397a22",
   "metadata": {},
   "source": [
    "#### Define\n",
    "\n",
    "- Change the timestamp to a datetime datatype"
   ]
  },
  {
   "cell_type": "markdown",
   "id": "daf99bb5",
   "metadata": {},
   "source": [
    "#### Code"
   ]
  },
  {
   "cell_type": "code",
   "execution_count": null,
   "id": "bb9daace",
   "metadata": {},
   "outputs": [],
   "source": [
    "df_archive_clean[\"timestamp\"] = pd.to_datetime(df_archive_clean[\"timestamp\"])"
   ]
  },
  {
   "cell_type": "markdown",
   "id": "d8dfcdff",
   "metadata": {},
   "source": [
    "#### Test"
   ]
  },
  {
   "cell_type": "code",
   "execution_count": null,
   "id": "b9f90425",
   "metadata": {},
   "outputs": [],
   "source": [
    "df_archive_clean[\"timestamp\"].info()"
   ]
  },
  {
   "cell_type": "markdown",
   "id": "bfece71a",
   "metadata": {},
   "source": [
    " #### Define\n",
    " \n",
    "- Change the source column to simpler words."
   ]
  },
  {
   "cell_type": "code",
   "execution_count": null,
   "id": "3c626687",
   "metadata": {},
   "outputs": [],
   "source": [
    "# change the source list: \n",
    "source_list = ['<a href=\"http://twitter.com/download/iphone\" rel=\"nofollow\">Twitter for iPhone</a>',\n",
    "              '<a href=\"http://vine.co\" rel=\"nofollow\">Vine - Make a Scene</a>',\n",
    "              '<a href=\"http://twitter.com\" rel=\"nofollow\">Twitter Web Client</a>',\n",
    "              '<a href=\"https://about.twitter.com/products/tweetdeck\" rel=\"nofollow\">TweetDeck</a>']\n",
    "\n",
    "\n",
    "source_list_new = ['Twitter for iPhone', 'Vine', 'Twitter Web Client', 'TweetDeck']"
   ]
  },
  {
   "cell_type": "code",
   "execution_count": null,
   "id": "3f1e0b19",
   "metadata": {},
   "outputs": [],
   "source": [
    "for old_source, new_source in zip(source_list, source_list_new):\n",
    "    df_archive_clean.source.replace(source_list, source_list_new, inplace=True)"
   ]
  },
  {
   "cell_type": "markdown",
   "id": "d91ca045",
   "metadata": {},
   "source": [
    "#### Test"
   ]
  },
  {
   "cell_type": "code",
   "execution_count": null,
   "id": "20897089",
   "metadata": {},
   "outputs": [],
   "source": [
    "df_archive_clean.sample(3)"
   ]
  },
  {
   "cell_type": "markdown",
   "id": "260172d9",
   "metadata": {},
   "source": [
    "#### Define\n",
    "\n",
    "* Columns 'doggo', 'floofer', 'pupper', 'puppo' in d should be a single column stage."
   ]
  },
  {
   "cell_type": "markdown",
   "id": "dedc816d",
   "metadata": {},
   "source": [
    "#### Code\n",
    "\n"
   ]
  },
  {
   "cell_type": "code",
   "execution_count": null,
   "id": "b687b9ae",
   "metadata": {},
   "outputs": [],
   "source": [
    "# for loop to replace all the 'None' \n",
    "stage = ['doggo','pupper', 'floofer', 'puppo' ]\n",
    "for i in stage:\n",
    "        df_archive_clean[i] = df_archive_clean[i].replace('None', '')"
   ]
  },
  {
   "cell_type": "markdown",
   "id": "0dcf4457",
   "metadata": {},
   "source": [
    "* I used the cat documentation https://pandas.pydata.org/pandas-docs/stable/reference/api/pandas.Series.cat.html"
   ]
  },
  {
   "cell_type": "code",
   "execution_count": null,
   "id": "8c309769",
   "metadata": {},
   "outputs": [],
   "source": [
    "df_archive_clean.head()"
   ]
  },
  {
   "cell_type": "code",
   "execution_count": null,
   "id": "f1dcccc8",
   "metadata": {},
   "outputs": [],
   "source": [
    "# use cat to combine  \n",
    "df_archive_clean['stage'] = df_archive_clean.doggo.str.cat(df_archive_clean.floofer).str.cat(df_archive_clean.pupper).str.cat(df_archive_clean.puppo)\n",
    "\n",
    "# drop the four old columns\n",
    "df_archive_clean = df_archive_clean.drop(['doggo','floofer','pupper','puppo'], axis = 1)\n",
    "\n",
    "# use np.nan to fill the empty values\n",
    "df_archive_clean['stage'] = df_archive_clean['stage'].replace('', np.nan)"
   ]
  },
  {
   "cell_type": "code",
   "execution_count": null,
   "id": "a11fc749",
   "metadata": {},
   "outputs": [],
   "source": [
    "df_archive_clean.stage.fillna('not classified', inplace=True)"
   ]
  },
  {
   "cell_type": "markdown",
   "id": "ff2bd0cd",
   "metadata": {},
   "source": [
    "#### Test"
   ]
  },
  {
   "cell_type": "code",
   "execution_count": null,
   "id": "28c96872",
   "metadata": {},
   "outputs": [],
   "source": [
    "df_archive_clean.sample(3)"
   ]
  },
  {
   "cell_type": "markdown",
   "id": "99e57c65",
   "metadata": {},
   "source": [
    "#### Define\n",
    "\n",
    "- Create a standard for \"rating_denominator\". The standard is 10. Since the standard is 10, I decided to drop the column."
   ]
  },
  {
   "cell_type": "markdown",
   "id": "095bf243",
   "metadata": {},
   "source": [
    "#### Code\n",
    "\n"
   ]
  },
  {
   "cell_type": "code",
   "execution_count": null,
   "id": "dc86ee9f",
   "metadata": {},
   "outputs": [],
   "source": [
    "df_archive_clean.drop('rating_denominator', axis=1, inplace=True)"
   ]
  },
  {
   "cell_type": "markdown",
   "id": "2d1d96c8",
   "metadata": {},
   "source": [
    "#### Test\n"
   ]
  },
  {
   "cell_type": "code",
   "execution_count": null,
   "id": "0686bdfd",
   "metadata": {},
   "outputs": [],
   "source": [
    "df_archive_clean.head(2)"
   ]
  },
  {
   "cell_type": "markdown",
   "id": "e8aaf306",
   "metadata": {},
   "source": [
    "#### Define\n",
    "\n",
    "- The \"rating_numerator\" has some extreme values. Fix that. 0-10"
   ]
  },
  {
   "cell_type": "markdown",
   "id": "9686402d",
   "metadata": {},
   "source": [
    "#### Code"
   ]
  },
  {
   "cell_type": "code",
   "execution_count": null,
   "id": "759c45d9",
   "metadata": {},
   "outputs": [],
   "source": [
    "df_archive_clean.loc[df_archive_clean['rating_numerator'] > 10 , 'rating_numerator'] = 10"
   ]
  },
  {
   "cell_type": "markdown",
   "id": "242a50ec",
   "metadata": {},
   "source": [
    "#### Test"
   ]
  },
  {
   "cell_type": "code",
   "execution_count": null,
   "id": "fb8914a0",
   "metadata": {},
   "outputs": [],
   "source": [
    "df_archive_clean.describe()"
   ]
  },
  {
   "cell_type": "markdown",
   "id": "99bb2c9a",
   "metadata": {},
   "source": [
    "#### Define\n",
    "\n",
    "- The name column has 'a' and None. It would be changed to NaN"
   ]
  },
  {
   "cell_type": "markdown",
   "id": "3a0d7e31",
   "metadata": {},
   "source": [
    "#### Code"
   ]
  },
  {
   "cell_type": "code",
   "execution_count": null,
   "id": "664c4bbf",
   "metadata": {},
   "outputs": [],
   "source": [
    "df_archive_clean.name.replace(['None', 'a'], np.nan, inplace=True)"
   ]
  },
  {
   "cell_type": "markdown",
   "id": "a5552f6d",
   "metadata": {},
   "source": [
    "#### Test"
   ]
  },
  {
   "cell_type": "code",
   "execution_count": null,
   "id": "b396c62e",
   "metadata": {},
   "outputs": [],
   "source": [
    "df_archive_clean.name.value_counts().head()"
   ]
  },
  {
   "cell_type": "markdown",
   "id": "44a7ac1a",
   "metadata": {},
   "source": [
    "#### Define\n",
    "\n",
    "- The dog names format should be consistent. Make the first letter capital for all the names or all small letters."
   ]
  },
  {
   "cell_type": "markdown",
   "id": "a4bd544e",
   "metadata": {},
   "source": [
    "#### Code"
   ]
  },
  {
   "cell_type": "code",
   "execution_count": null,
   "id": "81076ef4",
   "metadata": {},
   "outputs": [],
   "source": [
    "\n",
    "df_archive_clean['name'] = df_archive_clean.name.str.capitalize()"
   ]
  },
  {
   "cell_type": "markdown",
   "id": "9053555a",
   "metadata": {},
   "source": [
    "### Test"
   ]
  },
  {
   "cell_type": "code",
   "execution_count": null,
   "id": "d2233339",
   "metadata": {},
   "outputs": [],
   "source": [
    "df_archive_clean.head()"
   ]
  },
  {
   "cell_type": "markdown",
   "id": "d7a877e8",
   "metadata": {},
   "source": [
    "### Tweet image Prediction File`\n",
    "\n"
   ]
  },
  {
   "cell_type": "markdown",
   "id": "aed90428",
   "metadata": {},
   "source": [
    "#### Define\n",
    "\n",
    "- Drop duplicate values from jpg_url"
   ]
  },
  {
   "cell_type": "markdown",
   "id": "0b3e20a3",
   "metadata": {},
   "source": [
    "#### Code"
   ]
  },
  {
   "cell_type": "code",
   "execution_count": null,
   "id": "160eb8bb",
   "metadata": {},
   "outputs": [],
   "source": [
    "df_image_clean = df_image_clean.drop_duplicates(subset=['jpg_url'], keep='first')"
   ]
  },
  {
   "cell_type": "markdown",
   "id": "036a7bc5",
   "metadata": {},
   "source": [
    "#### Test"
   ]
  },
  {
   "cell_type": "code",
   "execution_count": null,
   "id": "cdaebb50",
   "metadata": {},
   "outputs": [],
   "source": [
    "sum(df_image_clean['jpg_url'].duplicated())"
   ]
  },
  {
   "cell_type": "markdown",
   "id": "e7551265",
   "metadata": {},
   "source": [
    "#### Define\n",
    "\n",
    "- The column names such as p1,p2, p3 are not decriptive."
   ]
  },
  {
   "cell_type": "markdown",
   "id": "cdf6616e",
   "metadata": {},
   "source": [
    "#### Code"
   ]
  },
  {
   "cell_type": "code",
   "execution_count": null,
   "id": "6cdc602e",
   "metadata": {},
   "outputs": [],
   "source": [
    "df_image_clean.sample(1)"
   ]
  },
  {
   "cell_type": "code",
   "execution_count": null,
   "id": "903c7306",
   "metadata": {},
   "outputs": [],
   "source": [
    "df_image_clean.rename(columns={'p1':'predict_1', 'p1_conf': 'probability_1', 'p1_dog': 'classify_1',\n",
    "                                  'p2': 'predict_2', 'p2_conf': 'probability_2', 'p2_dog': 'classify_2',\n",
    "                                  'p3': 'predict_3', 'p3_conf': 'probability_3', 'p3_dog': 'classify_3'}, inplace = True)"
   ]
  },
  {
   "cell_type": "markdown",
   "id": "72d8b70a",
   "metadata": {},
   "source": [
    "#### Test"
   ]
  },
  {
   "cell_type": "code",
   "execution_count": null,
   "id": "f32c7165",
   "metadata": {},
   "outputs": [],
   "source": [
    "df_image_clean.sample(1)"
   ]
  },
  {
   "cell_type": "code",
   "execution_count": null,
   "id": "17c5d518",
   "metadata": {},
   "outputs": [],
   "source": []
  },
  {
   "cell_type": "markdown",
   "id": "d6c7b859",
   "metadata": {},
   "source": [
    "## Merge datasets; Tweet Image prediction dataset and Tweet_api dataset"
   ]
  },
  {
   "cell_type": "code",
   "execution_count": null,
   "id": "5f92ac1f",
   "metadata": {},
   "outputs": [],
   "source": [
    "master_dataset1 = pd.merge(df_archive_clean, \n",
    "                      df_image_clean, \n",
    "                      how = 'left', on = ['tweet_id'])"
   ]
  },
  {
   "cell_type": "code",
   "execution_count": null,
   "id": "09e606e3",
   "metadata": {},
   "outputs": [],
   "source": [
    "master_dataset1.sample(3)"
   ]
  },
  {
   "cell_type": "code",
   "execution_count": null,
   "id": "10d48953",
   "metadata": {},
   "outputs": [],
   "source": [
    "master_dataset1.shape"
   ]
  },
  {
   "cell_type": "code",
   "execution_count": null,
   "id": "d1626f3f",
   "metadata": {},
   "outputs": [],
   "source": [
    "master_dataset1.isnull().sum()"
   ]
  },
  {
   "cell_type": "code",
   "execution_count": null,
   "id": "3e41051a",
   "metadata": {},
   "outputs": [],
   "source": [
    "master_dataset1.info()"
   ]
  },
  {
   "cell_type": "code",
   "execution_count": null,
   "id": "dea34df5",
   "metadata": {},
   "outputs": [],
   "source": [
    "#keep rows that have picture (jpg_url)\n",
    "\n",
    "master_dataset1 = master_dataset1[master_dataset1['jpg_url'].notnull()]"
   ]
  },
  {
   "cell_type": "code",
   "execution_count": null,
   "id": "e8fec25c",
   "metadata": {},
   "outputs": [],
   "source": [
    "master_dataset1.info()"
   ]
  },
  {
   "cell_type": "markdown",
   "id": "6d08178f",
   "metadata": {},
   "source": [
    "## Merge datasets; Master dataset and Tweet_api dataset"
   ]
  },
  {
   "cell_type": "code",
   "execution_count": null,
   "id": "ce90107b",
   "metadata": {},
   "outputs": [],
   "source": [
    "tweets_api.head()"
   ]
  },
  {
   "cell_type": "code",
   "execution_count": null,
   "id": "9692dfe0",
   "metadata": {},
   "outputs": [],
   "source": [
    "twitter_data = pd.merge(master_dataset1, tweets_api, \n",
    "                      how = 'left', left_on = 'tweet_id', right_on = 'id')"
   ]
  },
  {
   "cell_type": "code",
   "execution_count": null,
   "id": "a67516d0",
   "metadata": {},
   "outputs": [],
   "source": [
    "twitter_data.head()"
   ]
  },
  {
   "cell_type": "markdown",
   "id": "3f5f3baf",
   "metadata": {},
   "source": [
    "## Assessing merged dataset"
   ]
  },
  {
   "cell_type": "markdown",
   "id": "4d031274",
   "metadata": {},
   "source": [
    "#### Visual Assessement"
   ]
  },
  {
   "cell_type": "code",
   "execution_count": null,
   "id": "e22d3f41",
   "metadata": {},
   "outputs": [],
   "source": [
    "twitter_data.head()"
   ]
  },
  {
   "cell_type": "code",
   "execution_count": null,
   "id": "cac65373",
   "metadata": {},
   "outputs": [],
   "source": [
    "twitter_data.tail()"
   ]
  },
  {
   "cell_type": "markdown",
   "id": "d4b38881",
   "metadata": {},
   "source": [
    "#### Programmatic Assessement\n",
    "\n",
    "- Using Pandas functions"
   ]
  },
  {
   "cell_type": "code",
   "execution_count": null,
   "id": "dc338220",
   "metadata": {},
   "outputs": [],
   "source": [
    "twitter_data.info()"
   ]
  },
  {
   "cell_type": "code",
   "execution_count": null,
   "id": "9d470fdf",
   "metadata": {},
   "outputs": [],
   "source": [
    "twitter_data.describe()"
   ]
  },
  {
   "cell_type": "code",
   "execution_count": null,
   "id": "b121d4f5",
   "metadata": {},
   "outputs": [],
   "source": [
    "twitter_data.describe(exclude = 'number').T"
   ]
  },
  {
   "cell_type": "markdown",
   "id": "90ade5c6",
   "metadata": {},
   "source": [
    "### Cleaning summary\n",
    "\n",
    "`Quality List`\n",
    "- Drop the id column, it is redundant.\n",
    "- Drop some column not needed for further analysis.\n",
    "- Assign the proper datatype to columns"
   ]
  },
  {
   "cell_type": "markdown",
   "id": "2973f5df",
   "metadata": {},
   "source": [
    "### Quality\n"
   ]
  },
  {
   "cell_type": "markdown",
   "id": "f3e0ee59",
   "metadata": {},
   "source": [
    "#### Define\n",
    "- Drop the id column, it is redundant."
   ]
  },
  {
   "cell_type": "markdown",
   "id": "facb25c7",
   "metadata": {},
   "source": [
    "#### Code"
   ]
  },
  {
   "cell_type": "code",
   "execution_count": null,
   "id": "82d18e8b",
   "metadata": {},
   "outputs": [],
   "source": [
    "#Remove redundant variable id\n",
    "twitter_data.drop('id', axis=1, inplace = True)"
   ]
  },
  {
   "cell_type": "markdown",
   "id": "f353e841",
   "metadata": {},
   "source": [
    "#### Test"
   ]
  },
  {
   "cell_type": "code",
   "execution_count": null,
   "id": "a39327be",
   "metadata": {},
   "outputs": [],
   "source": [
    "twitter_data.shape"
   ]
  },
  {
   "cell_type": "markdown",
   "id": "e98e4566",
   "metadata": {},
   "source": [
    "#### Define\n",
    "- Drop some column not needed for further analysis."
   ]
  },
  {
   "cell_type": "markdown",
   "id": "fd77adc6",
   "metadata": {},
   "source": [
    "#### Code"
   ]
  },
  {
   "cell_type": "code",
   "execution_count": null,
   "id": "97ed3dee",
   "metadata": {},
   "outputs": [],
   "source": [
    "twitter_data.drop(['expanded_urls', 'jpg_url'], axis = 1, inplace = True)"
   ]
  },
  {
   "cell_type": "code",
   "execution_count": null,
   "id": "da05f143",
   "metadata": {},
   "outputs": [],
   "source": [
    "twitter_data.dropna(subset=[\"retweet_count\", \"favorite_count\"], inplace = True)"
   ]
  },
  {
   "cell_type": "markdown",
   "id": "f7ac0c03",
   "metadata": {},
   "source": [
    "#### Test"
   ]
  },
  {
   "cell_type": "code",
   "execution_count": null,
   "id": "9ee4b6c9",
   "metadata": {},
   "outputs": [],
   "source": [
    "twitter_data.info()"
   ]
  },
  {
   "cell_type": "markdown",
   "id": "b364c585",
   "metadata": {},
   "source": [
    "#### Define\n",
    "\n",
    "- All the values within columns should be in lowercase."
   ]
  },
  {
   "cell_type": "markdown",
   "id": "5f56ed81",
   "metadata": {},
   "source": [
    "#### Code"
   ]
  },
  {
   "cell_type": "code",
   "execution_count": null,
   "id": "ba805f83",
   "metadata": {},
   "outputs": [],
   "source": [
    "strings = list(twitter_data.dtypes[twitter_data.dtypes == 'object'].index)"
   ]
  },
  {
   "cell_type": "code",
   "execution_count": null,
   "id": "8b0316f9",
   "metadata": {},
   "outputs": [],
   "source": [
    "strings"
   ]
  },
  {
   "cell_type": "code",
   "execution_count": null,
   "id": "efad19af",
   "metadata": {},
   "outputs": [],
   "source": [
    "for col in strings:\n",
    "    twitter_data[col] = twitter_data[col].astype(str)"
   ]
  },
  {
   "cell_type": "markdown",
   "id": "bdb802f8",
   "metadata": {},
   "source": [
    "#### Test"
   ]
  },
  {
   "cell_type": "code",
   "execution_count": null,
   "id": "8e588434",
   "metadata": {},
   "outputs": [],
   "source": [
    "twitter_data.sample(3)"
   ]
  },
  {
   "cell_type": "markdown",
   "id": "d2cee5ab",
   "metadata": {},
   "source": [
    "#### Define\n",
    "- Assign the proper datatype to columns"
   ]
  },
  {
   "cell_type": "markdown",
   "id": "6ca30ab5",
   "metadata": {},
   "source": [
    "#### Code\n"
   ]
  },
  {
   "cell_type": "code",
   "execution_count": null,
   "id": "e56e722c",
   "metadata": {},
   "outputs": [],
   "source": [
    "twitter_data.stage = twitter_data.stage.astype('category')\n",
    "twitter_data.retweet_count = twitter_data.retweet_count.astype('int64')\n",
    "twitter_data.favorite_count = twitter_data.favorite_count.astype('int64')"
   ]
  },
  {
   "cell_type": "code",
   "execution_count": null,
   "id": "0d696835",
   "metadata": {},
   "outputs": [],
   "source": [
    "twitter_data.info()"
   ]
  },
  {
   "cell_type": "code",
   "execution_count": null,
   "id": "064e209c",
   "metadata": {},
   "outputs": [],
   "source": [
    "twitter_data.drop(['text','img_num'], axis = 1, inplace = True)"
   ]
  },
  {
   "cell_type": "code",
   "execution_count": null,
   "id": "e6d9efe2",
   "metadata": {},
   "outputs": [],
   "source": [
    "twitter_data.head()"
   ]
  },
  {
   "cell_type": "markdown",
   "id": "45e2fb4d",
   "metadata": {},
   "source": [
    "### Storing data in a csv file"
   ]
  },
  {
   "cell_type": "code",
   "execution_count": null,
   "id": "212c8f3a",
   "metadata": {},
   "outputs": [],
   "source": [
    "# Store the clean DataFrame in a CSV file\n",
    "\n",
    "twitter_data.to_csv('twitter_archive_master.csv',index=False, encoding = 'utf-8')"
   ]
  },
  {
   "cell_type": "markdown",
   "id": "4699ee7b",
   "metadata": {},
   "source": [
    "## Visualizing Data\n",
    "\n",
    "- Using the cleaned dataset"
   ]
  },
  {
   "cell_type": "code",
   "execution_count": null,
   "id": "b3814ac4",
   "metadata": {},
   "outputs": [],
   "source": [
    "twitter_data.sample(2)"
   ]
  },
  {
   "cell_type": "code",
   "execution_count": null,
   "id": "c9e39e69",
   "metadata": {},
   "outputs": [],
   "source": [
    "twitter_data.describe()"
   ]
  },
  {
   "cell_type": "markdown",
   "id": "c8111edb",
   "metadata": {},
   "source": [
    "#### Univariate Analysis"
   ]
  },
  {
   "cell_type": "code",
   "execution_count": null,
   "id": "e0434043",
   "metadata": {},
   "outputs": [],
   "source": [
    "def histogram_boxplot(data, feature, figsize=(15, 10), kde=False, bins=None):\n",
    "    \"\"\"\n",
    "    Boxplot and histogram combined\n",
    "\n",
    "    data: dataframe\n",
    "    feature: dataframe column\n",
    "    figsize: size of figure (default (15,10))\n",
    "    kde: whether to show the density curve (default False)\n",
    "    bins: number of bins for histogram (default None)\n",
    "    \"\"\"\n",
    "    f2, (ax_box2, ax_hist2) = plt.subplots(\n",
    "        nrows=2,  # Number of rows of the subplot grid= 2\n",
    "        sharex=True,  # x-axis will be shared among all subplots\n",
    "        gridspec_kw={\"height_ratios\": (0.25, 0.75)},\n",
    "        figsize=figsize,\n",
    "    )  # creating the 2 subplots\n",
    "    sns.boxplot(\n",
    "        data=data, x=feature, ax=ax_box2, showmeans=True, color=\"violet\"\n",
    "    )  # boxplot will be created and a star will indicate the mean value of the column\n",
    "    sns.histplot(\n",
    "        data=data, x=feature, kde=kde, ax=ax_hist2, bins=bins, palette=\"winter\"\n",
    "    ) if bins else sns.histplot(\n",
    "        data=data, x=feature, kde=kde, ax=ax_hist2\n",
    "    )  # For histogram\n",
    "    ax_hist2.axvline(\n",
    "        data[feature].mean(), color=\"green\", linestyle=\"--\"\n",
    "    )  # Add mean to the histogram\n",
    "    ax_hist2.axvline(\n",
    "        data[feature].median(), color=\"black\", linestyle=\"-\"\n",
    "    )  # Add median to the histogram"
   ]
  },
  {
   "cell_type": "code",
   "execution_count": null,
   "id": "0da4c92f",
   "metadata": {},
   "outputs": [],
   "source": [
    "histogram_boxplot(twitter_data, \"retweet_count\")"
   ]
  },
  {
   "cell_type": "markdown",
   "id": "c9524ccc",
   "metadata": {},
   "source": [
    "#### Insights:\n",
    "\n",
    "- The retweet count is right skewed which means the average retweet count is more than the median.\n",
    "\n",
    "- The box plot shows that there is a lot of outliers."
   ]
  },
  {
   "cell_type": "code",
   "execution_count": null,
   "id": "cf955db9",
   "metadata": {},
   "outputs": [],
   "source": [
    "histogram_boxplot(twitter_data, \"favorite_count\")"
   ]
  },
  {
   "cell_type": "markdown",
   "id": "1631da3c",
   "metadata": {},
   "source": [
    "#### Insights:\n",
    "\n",
    "- The favorite count is right skewed which means the average retweet count is more than the median.\n",
    "\n",
    "- The box plot shows that there is a lot of outliers."
   ]
  },
  {
   "cell_type": "code",
   "execution_count": null,
   "id": "8262bec6",
   "metadata": {},
   "outputs": [],
   "source": [
    "histogram_boxplot(twitter_data, \"rating_numerator\")"
   ]
  },
  {
   "cell_type": "markdown",
   "id": "47505a3b",
   "metadata": {},
   "source": [
    "#### Insights\n",
    "\n",
    "- Most of the ratings are below 10."
   ]
  },
  {
   "cell_type": "code",
   "execution_count": null,
   "id": "059e720a",
   "metadata": {},
   "outputs": [],
   "source": [
    "# function to create labeled barplots\n",
    "\n",
    "\n",
    "def labeled_barplot(data, feature, perc=False, n=None):\n",
    "    \"\"\"\n",
    "    Barplot with percentage at the top\n",
    "\n",
    "    data: dataframe\n",
    "    feature: dataframe column\n",
    "    perc: whether to display percentages instead of count (default is False)\n",
    "    n: displays the top n category levels (default is None, i.e., display all levels)\n",
    "    \"\"\"\n",
    "\n",
    "    total = len(data[feature])  # length of the column\n",
    "    count = data[feature].nunique()\n",
    "    if n is None:\n",
    "        plt.figure(figsize=(count + 2, 6))\n",
    "    else:\n",
    "        plt.figure(figsize=(n + 2, 6))\n",
    "\n",
    "    plt.xticks(rotation=90, fontsize=15)\n",
    "    ax = sns.countplot(\n",
    "        data=data,\n",
    "        x=feature,\n",
    "        palette=\"Paired\",\n",
    "        order=data[feature].value_counts().index[:n].sort_values(),\n",
    "    )\n",
    "\n",
    "    for p in ax.patches:\n",
    "        if perc == True:\n",
    "            label = \"{:.1f}%\".format(\n",
    "                100 * p.get_height() / total\n",
    "            )  # percentage of each class of the category\n",
    "        else:\n",
    "            label = p.get_height()  # count of each level of the category\n",
    "\n",
    "        x = p.get_x() + p.get_width() / 2  # width of the plot\n",
    "        y = p.get_height()  # height of the plot\n",
    "\n",
    "        ax.annotate(\n",
    "            label,\n",
    "            (x, y),\n",
    "            ha=\"center\",\n",
    "            va=\"center\",\n",
    "            size=12,\n",
    "            xytext=(0, 5),\n",
    "            textcoords=\"offset points\",\n",
    "        )  # annotate the percentage\n",
    "\n",
    "    plt.show()  # show the plot"
   ]
  },
  {
   "cell_type": "code",
   "execution_count": null,
   "id": "8679fdd5",
   "metadata": {},
   "outputs": [],
   "source": [
    "labeled_barplot(twitter_data, \"source\", perc=True)"
   ]
  },
  {
   "cell_type": "markdown",
   "id": "6c7100d8",
   "metadata": {},
   "source": [
    "#### Insights\n",
    "\n",
    "- Data extracted are mainly from users that have an iphone followed by the web."
   ]
  },
  {
   "cell_type": "code",
   "execution_count": null,
   "id": "fcbbf4e0",
   "metadata": {},
   "outputs": [],
   "source": [
    "labeled_barplot(twitter_data, \"stage\", perc=True)"
   ]
  },
  {
   "cell_type": "markdown",
   "id": "1fdb8876",
   "metadata": {},
   "source": [
    "#### Insights\n",
    "\n",
    "- Most of the data are not classified which signifies missing values followed by pupper."
   ]
  },
  {
   "cell_type": "code",
   "execution_count": null,
   "id": "9e752532",
   "metadata": {},
   "outputs": [],
   "source": [
    "labeled_barplot(twitter_data, \"classify_1\", perc=True)"
   ]
  },
  {
   "cell_type": "code",
   "execution_count": null,
   "id": "5e4b6b9d",
   "metadata": {},
   "outputs": [],
   "source": [
    "labeled_barplot(twitter_data, \"classify_2\", perc=True)"
   ]
  },
  {
   "cell_type": "code",
   "execution_count": null,
   "id": "3eea342c",
   "metadata": {},
   "outputs": [],
   "source": [
    "labeled_barplot(twitter_data, \"classify_3\", perc=True)"
   ]
  },
  {
   "cell_type": "markdown",
   "id": "a412e558",
   "metadata": {},
   "source": [
    "#### Insights\n",
    "\n",
    "- Most of the prediction data are true"
   ]
  },
  {
   "cell_type": "code",
   "execution_count": null,
   "id": "996f03d0",
   "metadata": {},
   "outputs": [],
   "source": [
    "labeled_barplot(twitter_data, \"rating_numerator\", perc=True)"
   ]
  },
  {
   "cell_type": "markdown",
   "id": "5c62c7ef",
   "metadata": {},
   "source": [
    "#### Ratings\n",
    "\n",
    "- Most ratings are 10."
   ]
  },
  {
   "cell_type": "code",
   "execution_count": null,
   "id": "47aba3cd",
   "metadata": {},
   "outputs": [],
   "source": [
    "plt.figure(figsize = (17,6))\n",
    "ax = sns.barplot(x = twitter_data['predict_1'].value_counts()[0:10].index,\n",
    "            y =twitter_data['predict_1'].value_counts()[0:10],\n",
    "            data = twitter_data);\n",
    "ax.set_xticklabels(ax.get_xticklabels(),rotation = 60, fontsize = 15);\n",
    "plt.xlabel(\"Dog Breeds\",fontsize = 18);\n",
    "plt.ylabel(\"Prediction Count\",fontsize = 18);\n",
    "plt.title(\"Popular Dog Breeds\",fontsize = 18);"
   ]
  },
  {
   "cell_type": "markdown",
   "id": "a135652f",
   "metadata": {},
   "source": [
    "#### Insights\n",
    "\n",
    "- The Golden retriever is the most predicted dog breed."
   ]
  },
  {
   "cell_type": "code",
   "execution_count": null,
   "id": "a5e92035",
   "metadata": {},
   "outputs": [],
   "source": [
    "plt.figure(figsize=(12,8))\n",
    "plt.xticks(rotation=60)\n",
    "plt.plot(twitter_data.timestamp, twitter_data.favorite_count)\n",
    "plt.grid()"
   ]
  },
  {
   "cell_type": "code",
   "execution_count": null,
   "id": "04195b0f",
   "metadata": {},
   "outputs": [],
   "source": [
    "plt.figure(figsize=(12,8))\n",
    "plt.xticks(rotation=60)\n",
    "plt.plot(twitter_data.timestamp, twitter_data.retweet_count)\n",
    "plt.grid()"
   ]
  },
  {
   "cell_type": "markdown",
   "id": "bbdf639b",
   "metadata": {},
   "source": [
    "#### Insights:\n",
    "\n",
    "- There was more activity between the 5th and 6th month of 2016 based on retweet and favorite counts."
   ]
  },
  {
   "cell_type": "code",
   "execution_count": null,
   "id": "7d20c921",
   "metadata": {},
   "outputs": [],
   "source": []
  }
 ],
 "metadata": {
  "kernelspec": {
   "display_name": "Python 3 (ipykernel)",
   "language": "python",
   "name": "python3"
  },
  "language_info": {
   "codemirror_mode": {
    "name": "ipython",
    "version": 3
   },
   "file_extension": ".py",
   "mimetype": "text/x-python",
   "name": "python",
   "nbconvert_exporter": "python",
   "pygments_lexer": "ipython3",
   "version": "3.9.12"
  }
 },
 "nbformat": 4,
 "nbformat_minor": 5
}
